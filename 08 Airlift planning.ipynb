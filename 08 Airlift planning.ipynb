{
 "cells": [
  {
   "cell_type": "markdown",
   "metadata": {},
   "source": [
    "# Airlift planning"
   ]
  },
  {
   "cell_type": "markdown",
   "metadata": {},
   "source": [
    "You are in charge of determining which subset of the following requirements should be shipped on the next C-17 to another base:\n",
    "\n",
    "| Requirement      | Capability Value | Weight (tons) | Volume ($\\text{m}^3$) |\n",
    "|:-----------------|:-----------------|:--------------|:-------------|\n",
    "| Large munitions  | 50               | 43            | 250          |\n",
    "| Small munitions  | 30               | 17            | 130          |\n",
    "| Food             | 80               | 26            | 370          |\n",
    "| Medical supplies | 40               | 4             | 180          |\n",
    "| Repair parts     | 70               | 35            | 400          |\n",
    "\n",
    "The C-17 has a weight capacity of 80 tons, and a volume capacity of 700 $\\text{m}^3$. The goal is to maximize the total capability value of the requirements shipped.\n",
    "\n",
    "\n",
    "* Formulate this problem as a dynamic program by giving its shortest/longest path representation.\n",
    "\n",
    "\n",
    "* Solve this dynamic program. \n",
    "    - What is the maximum possible total capability value?\n",
    "    - Which requirements should be put on the plane to achieve this maximum total capability value?"
   ]
  },
  {
   "cell_type": "markdown",
   "metadata": {},
   "source": [
    "![Longest path representation of DP](img/airlift_dp.png)"
   ]
  },
  {
   "cell_type": "code",
   "execution_count": 1,
   "metadata": {},
   "outputs": [
    {
     "name": "stdout",
     "output_type": "stream",
     "text": [
      "Negative cycle? False\n",
      "Shortest path length: -150\n",
      "Shortest path: [(0, 80, 700), (1, 80, 700), (2, 63, 570), (3, 37, 200), (4, 33, 20), (5, 33, 20), 'end']\n"
     ]
    }
   ],
   "source": [
    "# Write your code here\n",
    "# Import networkx and bellmanford\n",
    "import networkx as nx\n",
    "import bellmanford as bf\n",
    "\n",
    "# Create variables for weight and volume capacity\n",
    "MAX_WEIGHT = 80\n",
    "MAX_VOLUME = 700 \n",
    "\n",
    "# Create lists for capability values, weights, volumes\n",
    "value = [50, 30, 80, 40, 70]\n",
    "weight = [43, 17, 26, 4, 35]\n",
    "volume = [250, 130, 370, 180, 400]\n",
    "\n",
    "# Create empty graph\n",
    "G = nx.DiGraph()\n",
    "\n",
    "# Add stage-state nodes (t, n1, n2)\n",
    "#   t = stage, consider requirement t\n",
    "#   n1 = remaining weight\n",
    "#   n2 = remaining volume\n",
    "# \n",
    "# t = 0: large munitions\n",
    "# t = 1: small munitions\n",
    "# t = 2: food\n",
    "# t = 3: medical supplies\n",
    "# t = 4: repair parts\n",
    "# t = 5: end of decision process\n",
    "for t in range(0, 6):\n",
    "    for n1 in range(0, MAX_WEIGHT + 1):\n",
    "        for n2 in range(0, MAX_VOLUME + 1):\n",
    "            G.add_node((t, n1, n2))\n",
    "\n",
    "# Add end node\n",
    "G.add_node(\"end\")\n",
    "\n",
    "# Add edges corresponding to decisions\n",
    "# Remember we're maximizing, so the lengths should be negative of the values\n",
    "for t in range(0, 5):\n",
    "    for n1 in range(0, MAX_WEIGHT + 1):\n",
    "        for n2 in range(0, MAX_VOLUME + 1):\n",
    "            # Take requirement t, check if it fits first\n",
    "            if n1 - weight[t] >= 0:\n",
    "                if n2 - volume[t] >= 0:\n",
    "                    G.add_edge((t, n1, n2), (t + 1, n1 - weight[t], n2 - volume[t]), \n",
    "                               length=-value[t])\n",
    "\n",
    "            # Don't take requirement t\n",
    "            G.add_edge((t, n1, n2), (t + 1, n1, n2), length=0)\n",
    "\n",
    "# Add edges from last stage to end node\n",
    "for n1 in range(0, MAX_WEIGHT + 1):\n",
    "    for n2 in range(0, MAX_VOLUME + 1):\n",
    "        G.add_edge((5, n1, n2), \"end\", length = 0)\n",
    "\n",
    "# Solve the DP/shortest path problem using the Bellman-Ford algorithm\n",
    "length, nodes, negative_cycle = bf.bellman_ford(G, source=(0, MAX_WEIGHT, MAX_VOLUME), \n",
    "                                                target=\"end\", weight=\"length\")\n",
    "\n",
    "print(f\"Negative cycle? {negative_cycle}\")\n",
    "print(f\"Shortest path length: {length}\")\n",
    "print(f\"Shortest path: {nodes}\")"
   ]
  },
  {
   "cell_type": "markdown",
   "metadata": {},
   "source": [
    "* The maximum possible total capability value is 150.\n",
    "\n",
    "* To achieve this maximum total capability value, we should put the small munitions, food, and medical supplies on the C-17."
   ]
  }
 ],
 "metadata": {
  "kernelspec": {
   "display_name": "Python 3",
   "language": "python",
   "name": "python3"
  },
  "language_info": {
   "codemirror_mode": {
    "name": "ipython",
    "version": 3
   },
   "file_extension": ".py",
   "mimetype": "text/x-python",
   "name": "python",
   "nbconvert_exporter": "python",
   "pygments_lexer": "ipython3",
   "version": "3.6.4"
  }
 },
 "nbformat": 4,
 "nbformat_minor": 1
}

{
 "cells": [
  {
   "cell_type": "markdown",
   "metadata": {},
   "source": [
    "# Airlift planning"
   ]
  },
  {
   "cell_type": "markdown",
   "metadata": {},
   "source": [
    "You are in charge of determining which subset of the following requirements should be shipped on the next C-17 to another base:\n",
    "\n",
    "| Requirement      | Capability Value | Weight (tons) | Volume ($\\text{m}^3$) |\n",
    "|:-----------------|:-----------------|:--------------|:-------------|\n",
    "| Large munitions  | 50               | 43            | 250          |\n",
    "| Small munitions  | 30               | 17            | 130          |\n",
    "| Food             | 80               | 26            | 370          |\n",
    "| Medical supplies | 40               | 4             | 180          |\n",
    "| Repair parts     | 70               | 35            | 400          |\n",
    "\n",
    "The C-17 has a weight capacity of 80 tons, and a volume capacity of 700 $\\text{m}^3$. The goal is to maximize the total capability value of the requirements shipped.\n",
    "\n",
    "\n",
    "* Formulate this problem as a dynamic program by giving its shortest/longest path representation.\n",
    "\n",
    "\n",
    "* Solve this dynamic program. \n",
    "    - What is the maximum possible total capability value?\n",
    "    - Which requirements should be put on the plane to achieve this maximum total capability value?"
   ]
  },
  {
   "cell_type": "code",
   "execution_count": null,
   "metadata": {},
   "outputs": [],
   "source": [
    "# Write your code here\n"
   ]
  },
  {
   "cell_type": "markdown",
   "metadata": {},
   "source": [
    "_Write your notes here. Double-click to edit._\n"
   ]
  }
 ],
 "metadata": {
  "kernelspec": {
   "display_name": "Python 3",
   "language": "python",
   "name": "python3"
  },
  "language_info": {
   "codemirror_mode": {
    "name": "ipython",
    "version": 3
   },
   "file_extension": ".py",
   "mimetype": "text/x-python",
   "name": "python",
   "nbconvert_exporter": "python",
   "pygments_lexer": "ipython3",
   "version": "3.6.4"
  }
 },
 "nbformat": 4,
 "nbformat_minor": 1
}
